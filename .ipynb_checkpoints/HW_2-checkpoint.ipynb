{
 "cells": [
  {
   "cell_type": "markdown",
   "metadata": {
    "colab_type": "text",
    "id": "view-in-github"
   },
   "source": [
    "<a href=\"https://colab.research.google.com/github/dbamman/nlp20/blob/master/HW_2/HW_2.ipynb\" target=\"_parent\"><img src=\"https://colab.research.google.com/assets/colab-badge.svg\" alt=\"Open In Colab\"/></a>"
   ]
  },
  {
   "cell_type": "markdown",
   "metadata": {
    "colab_type": "text",
    "id": "I6sGKifyWQ6S"
   },
   "source": [
    "# Homework 2: Convolutional Neural Networks for Text Classification"
   ]
  },
  {
   "cell_type": "markdown",
   "metadata": {
    "colab_type": "text",
    "id": "Rw6pcjjzWdqI"
   },
   "source": [
    "In this homework, you will be implementing the _forward pass_ and _backpropagation_ for a convolutional neural network with sparse inputs for text classification. "
   ]
  },
  {
   "cell_type": "markdown",
   "metadata": {
    "colab_type": "text",
    "id": "Hiu0tLm9Wnah"
   },
   "source": [
    "## The setup\n",
    "Let's define parameters for the Convolutional Neural Network. You do not need to modify them."
   ]
  },
  {
   "cell_type": "code",
   "execution_count": 1,
   "metadata": {
    "colab": {},
    "colab_type": "code",
    "collapsed": true,
    "id": "284_yXERWZFb"
   },
   "outputs": [],
   "source": [
    "import sys\n",
    "import math\n",
    "import numpy as np\n",
    "from collections import defaultdict\n",
    "\n",
    "# window size for the CNN\n",
    "width = 2\n",
    "\n",
    "# number of filters\n",
    "F = 100\n",
    "\n",
    "# learning rate\n",
    "alpha = 1e-1\n",
    "\n",
    "# vocabsize: size of the total vocabulary\n",
    "vocabsize = 10000\n",
    "\n",
    "# vocab: the vocabulary dictionary with the word as key and its index as value\n",
    "# the input will be transformed into respective positional indices using the vocab dictionary\n",
    "# as the input for the forward and backward algorithm\n",
    "# e.g. if vocab = {'a': 0, 'simple': 1, 'sentence': 2} and the training data is\n",
    "# \"a simple simple sentence a\",\n",
    "# the input to the forward and backward algorithm will be [0,1,1,2,0]\n",
    "vocab = {}\n",
    "\n",
    "np.random.seed(1)\n",
    "\n",
    "# U and V are weight vectors of the hidden layer\n",
    "# U: a matrix of weights of all inputs for the first\n",
    "# hidden layer for all F filters in the\n",
    "# where each filter has the size of vocabsize by width (window size)\n",
    "# U[i, j, k] represents the weight of filter u_j\n",
    "# for word with vocab[word] = i when the word is\n",
    "# at the position k of the sliding window\n",
    "# e.g. for the example, \"a simple simple sentence a\",\n",
    "# if the window size is 4 and we are looking at the first sliding window\n",
    "# of the 9th filter, the weight for the last \"sentence\" will be U[2, 8, 3]\n",
    "# i.e U[index of the word in vocab, index of the filter, position of the word in that sliding window]\n",
    "U = np.random.normal(loc=0, scale=0.01, size=(vocabsize, F, width))\n",
    "\n",
    "# V: the the weight vector of the F filter outputs (after max pooling)\n",
    "# that will produce the output, i.e. o = sigmoid(V*h)\n",
    "V = np.random.normal(loc=0, scale=0.01, size=(F))"
   ]
  },
  {
   "cell_type": "markdown",
   "metadata": {
    "colab_type": "text",
    "id": "rw0w-FwHXfH_"
   },
   "source": [
    "Let's define some utility functions that may be useful. You don't need to modify them."
   ]
  },
  {
   "cell_type": "code",
   "execution_count": 2,
   "metadata": {
    "colab": {},
    "colab_type": "code",
    "collapsed": true,
    "id": "lHNxHBX7WrYs"
   },
   "outputs": [],
   "source": [
    "def sigmoid(x):\n",
    "    \"\"\"\n",
    "    helper function that computes the sigmoid function\n",
    "    \"\"\"\n",
    "    return 1. / (1 + math.exp(-x))\n",
    "\n",
    "\n",
    "def read_vocab(filename):\n",
    "    \"\"\"\n",
    "    helper function that builds up the vocab dictionary for input transformation\n",
    "    \"\"\"\n",
    "    file = open(filename)\n",
    "    for line in file:\n",
    "        cols = line.rstrip().split(\"\\t\")\n",
    "        word = cols[0]\n",
    "        idd = int(cols[1])\n",
    "        vocab[word] = idd\n",
    "    file.close()\n",
    "\n",
    "\n",
    "def read_data(filename):\n",
    "    \"\"\"\n",
    "    :param filename: the name of the file\n",
    "    :return: list of tuple ([word index list], label)\n",
    "    as input for the forward and backward function\n",
    "    \"\"\"\n",
    "    data = []\n",
    "    file = open(filename)\n",
    "    for line in file:\n",
    "        cols = line.rstrip().split(\"\\t\")\n",
    "        label = int(cols[0])\n",
    "        words = cols[1].split(\" \")\n",
    "        w_int = []\n",
    "        for w in words:\n",
    "            # skip the unknown words\n",
    "            if w in vocab:\n",
    "                w_int.append(vocab[w])\n",
    "        data.append((w_int, label))\n",
    "    file.close()\n",
    "    return data\n",
    "\n",
    "\n",
    "def train():\n",
    "    \"\"\"\n",
    "    main caller function that reads in the names of the files\n",
    "    and train the CNN to classify movie reviews\n",
    "    \"\"\"\n",
    "    vocabFile = \"vocab.txt\"\n",
    "    trainingFile = \"movie_reviews.train\"\n",
    "    testFile = \"movie_reviews.dev\"\n",
    "\n",
    "    read_vocab(vocabFile)\n",
    "    training_data = read_data(trainingFile)\n",
    "    test_data = read_data(testFile)\n",
    "\n",
    "    for i in range(50):\n",
    "        # confusion matrix showing the accuracy of the algorithm\n",
    "        confusion_training = np.zeros((2, 2))\n",
    "        confusion_validation = np.zeros((2, 2))\n",
    "\n",
    "        for (data, label) in training_data:\n",
    "            # back propagation to update weights for both U and V\n",
    "            backward(data, label)\n",
    "\n",
    "            # calculate forward and evaluate\n",
    "            prob = forward(data)[\"prob\"]\n",
    "            pred = 1 if prob > .5 else 0\n",
    "            confusion_training[pred, label] += 1\n",
    "\n",
    "        for (data, label) in test_data:\n",
    "            # calculate forward and evaluate\n",
    "            prob = forward(data)[\"prob\"]\n",
    "            pred = 1 if prob > .5 else 0\n",
    "            confusion_validation[pred, label] += 1\n",
    "\n",
    "        print(\"Epoch: {} \\tDev accuracy: {:.3f}\"\n",
    "            .format(\n",
    "            i,\n",
    "            np.sum(np.diag(confusion_validation)) / np.sum(confusion_validation)))"
   ]
  },
  {
   "cell_type": "markdown",
   "metadata": {
    "colab_type": "text",
    "id": "Ev6O33rf25Ko"
   },
   "source": [
    "And finally, we'll download the data. We'll be doing sentiment analysis on a dataset of movie reviews, so we'll need 3 files - a vocabulary file, a file with a training set of movie reviews, and a development set containing different reviews."
   ]
  },
  {
   "cell_type": "code",
   "execution_count": 3,
   "metadata": {
    "colab": {},
    "colab_type": "code",
    "collapsed": true,
    "id": "Z0Q7-x7-2_d1"
   },
   "outputs": [],
   "source": [
    "%%capture\n",
    "!wget https://raw.githubusercontent.com/dbamman/nlp20/master/HW_2/vocab.txt \n",
    "!wget https://raw.githubusercontent.com/dbamman/nlp20/master/HW_2/movie_reviews.dev\n",
    "!wget https://raw.githubusercontent.com/dbamman/nlp20/master/HW_2/movie_reviews.train"
   ]
  },
  {
   "cell_type": "markdown",
   "metadata": {
    "colab_type": "text",
    "id": "h5I1QY3NXnkX"
   },
   "source": [
    "## 1. Forward\n",
    "\n",
    "Given the parameters and definition of the CNN model (§2 of HW), complete the Forward Function to calculate _o_ (the probability of the positive class) for an input text. You may not import any additional libraries. "
   ]
  },
  {
   "cell_type": "code",
   "execution_count": 7,
   "metadata": {
    "colab": {},
    "colab_type": "code",
    "id": "AR7JOqL9XjZm"
   },
   "outputs": [],
   "source": [
    "def forward(word_indices):\n",
    "    \"\"\"\n",
    "    :param word_indices: a list of word indices, i.e. idx = vocab[word]\n",
    "    :return: a result dictionary containing 3 items -\n",
    "    result['prob']: output of the CNN algorithm.\n",
    "    result['h']: the hidden layer output after max pooling, h = [h1, ..., hF]\n",
    "    result['hid']: argmax of F filters, e.g. j of x_j\n",
    "    e.g. for the ith filter u_i, tanh(word[hid[i], hid[i] + width]*u_i) = max(h_i)\n",
    "    \"\"\"\n",
    "\n",
    "    h = np.zeros(F, dtype=float)\n",
    "    hid = np.zeros(F, dtype=int)\n",
    "    prob = 0.0\n",
    "\n",
    "    # step 1. compute h and hid\n",
    "    # loop through the input data of word indices and\n",
    "    # keep track of the max filtered value h_i and its position index x_j\n",
    "    # h_i = max(tanh(weighted sum of all words in a given window)) over all windows for u_i\n",
    "    \"\"\"\n",
    "    Type your code below\n",
    "    \"\"\"\n",
    "    num_words = len(word_indices)\n",
    "    \n",
    "    for i in range(F):\n",
    "        # pick out selected indices for every word\n",
    "        selected_indices = U[word_indices, np.full(len(word_indices), i)]\n",
    "        \n",
    "        # initialize vector_sum to the first window value for each word\n",
    "        vector_sum = selected_indices[np.arange(len(selected_indices) - width + 1), \n",
    "                                      np.full(len(selected_indices) - width + 1, 0)]\n",
    "        \n",
    "        for k in range(1, width):\n",
    "            # next vector is shifted k down from initial vector_sum\n",
    "            next_vector = selected_indices[np.arange(k, len(word_indices) - width + 1 + k), \n",
    "                                          np.full(len(selected_indices) - width + 1, k)]\n",
    "            \n",
    "            # add to total vector elementwise sum\n",
    "            vector_sum = np.sum([vector_sum, next_vector], axis=0)\n",
    "        \n",
    "        h[i] = max(np.tanh(vector_sum))\n",
    "        hid[i] = np.argmax(np.tanh(vector_sum))\n",
    "\n",
    "        \n",
    "    # step 2. compute probability\n",
    "    # once h and hid are computed, compute the probabiliy by sigmoid(h^TV)\n",
    "    \"\"\"\n",
    "    Type your code below\n",
    "    \"\"\"\n",
    "    prob = sigmoid(np.dot(h,V))\n",
    "\n",
    "    # step 3. return result\n",
    "    return {\"prob\": prob, \"h\": h, \"hid\": hid}"
   ]
  },
  {
   "cell_type": "markdown",
   "metadata": {
    "colab_type": "text",
    "id": "E74JyTjkXvqK"
   },
   "source": [
    "## 2. Backward\n",
    "\n",
    "Using the gradient update equations for V (§3 in HW) and U (§3.1), implement the updates for U and V in the backward function."
   ]
  },
  {
   "cell_type": "code",
   "execution_count": 8,
   "metadata": {
    "colab": {},
    "colab_type": "code",
    "id": "lT8hRNr0XsVu"
   },
   "outputs": [],
   "source": [
    "def backward(word_indices, true_label):\n",
    "    \"\"\"\n",
    "    :param word_indices: a list of word indices, i.e. idx = vocab[word]\n",
    "    :param true_label: true label (0, 1) of the movie reviews\n",
    "    :return: None\n",
    "    update weight matrix/vector U and V based on the loss function\n",
    "    \"\"\"\n",
    "    global U, V\n",
    "    pred = forward(word_indices)\n",
    "    prob = pred[\"prob\"]\n",
    "    h = pred[\"h\"]\n",
    "    hid = pred[\"hid\"]\n",
    "\n",
    "    # update U and V here\n",
    "    # loss_function = y * log(o) + (1 - y) * log(1 - o)\n",
    "    #               = true_label * log(prob) + (1 - true_label) * log(1 - prob)\n",
    "    # to update V: V_new = V_current + d(loss_function)/d(V)*alpha\n",
    "    # to update U: U_new = U_current + d(loss_function)/d(U)*alpha\n",
    "    # Make sure you only update the appropriate argmax term for U\n",
    "    \"\"\"\n",
    "    Type your code below\n",
    "    \"\"\"\n",
    "    first_part = (true_label - sigmoid(np.dot(V, h)))\n",
    "    \n",
    "    for i in range(F):\n",
    "        \n",
    "        d_total = first_part * V[i] * (1 - h[i]**2)\n",
    "        for k in range(width):\n",
    "            x_j = hid[i] + k\n",
    "            U[word_indices[x_j], i, k] += d_total * alpha\n",
    "    \n",
    "    \n",
    "    V = V + (true_label - sigmoid(np.dot(V,h))) * h * alpha"
   ]
  },
  {
   "cell_type": "markdown",
   "metadata": {
    "colab_type": "text",
    "id": "atJ7itphH0U_"
   },
   "source": [
    "Once you have implemented both the forward and backward functions, your can test out your implementations by training the model. To do so, run the `train` function in the cell below. If your implementations are correct, you should see the accuracy improve as the model trains (You will be graded based on the correctness of the implementations, not on this accuracy)."
   ]
  },
  {
   "cell_type": "code",
   "execution_count": 9,
   "metadata": {},
   "outputs": [
    {
     "name": "stdout",
     "output_type": "stream",
     "text": [
      "Epoch: 0 \tDev accuracy: 0.620\n",
      "Epoch: 1 \tDev accuracy: 0.602\n",
      "Epoch: 2 \tDev accuracy: 0.668\n",
      "Epoch: 3 \tDev accuracy: 0.698\n",
      "Epoch: 4 \tDev accuracy: 0.722\n",
      "Epoch: 5 \tDev accuracy: 0.804\n",
      "Epoch: 6 \tDev accuracy: 0.806\n",
      "Epoch: 7 \tDev accuracy: 0.806\n",
      "Epoch: 8 \tDev accuracy: 0.804\n",
      "Epoch: 9 \tDev accuracy: 0.806\n",
      "Epoch: 10 \tDev accuracy: 0.806\n",
      "Epoch: 11 \tDev accuracy: 0.806\n",
      "Epoch: 12 \tDev accuracy: 0.810\n",
      "Epoch: 13 \tDev accuracy: 0.808\n",
      "Epoch: 14 \tDev accuracy: 0.810\n",
      "Epoch: 15 \tDev accuracy: 0.810\n",
      "Epoch: 16 \tDev accuracy: 0.812\n",
      "Epoch: 17 \tDev accuracy: 0.812\n",
      "Epoch: 18 \tDev accuracy: 0.814\n",
      "Epoch: 19 \tDev accuracy: 0.814\n",
      "Epoch: 20 \tDev accuracy: 0.816\n",
      "Epoch: 21 \tDev accuracy: 0.816\n",
      "Epoch: 22 \tDev accuracy: 0.816\n",
      "Epoch: 23 \tDev accuracy: 0.816\n",
      "Epoch: 24 \tDev accuracy: 0.818\n",
      "Epoch: 25 \tDev accuracy: 0.818\n",
      "Epoch: 26 \tDev accuracy: 0.818\n",
      "Epoch: 27 \tDev accuracy: 0.818\n",
      "Epoch: 28 \tDev accuracy: 0.818\n",
      "Epoch: 29 \tDev accuracy: 0.818\n"
     ]
    },
    {
     "ename": "KeyboardInterrupt",
     "evalue": "",
     "output_type": "error",
     "traceback": [
      "\u001b[0;31m---------------------------------------------------------------------------\u001b[0m",
      "\u001b[0;31mKeyboardInterrupt\u001b[0m                         Traceback (most recent call last)",
      "\u001b[0;32m<ipython-input-9-93fd337a0d5c>\u001b[0m in \u001b[0;36m<module>\u001b[0;34m()\u001b[0m\n\u001b[0;32m----> 1\u001b[0;31m \u001b[0mtrain\u001b[0m\u001b[0;34m(\u001b[0m\u001b[0;34m)\u001b[0m\u001b[0;34m\u001b[0m\u001b[0;34m\u001b[0m\u001b[0m\n\u001b[0m",
      "\u001b[0;32m<ipython-input-2-24c29a275013>\u001b[0m in \u001b[0;36mtrain\u001b[0;34m()\u001b[0m\n\u001b[1;32m     61\u001b[0m         \u001b[0;32mfor\u001b[0m \u001b[0;34m(\u001b[0m\u001b[0mdata\u001b[0m\u001b[0;34m,\u001b[0m \u001b[0mlabel\u001b[0m\u001b[0;34m)\u001b[0m \u001b[0;32min\u001b[0m \u001b[0mtraining_data\u001b[0m\u001b[0;34m:\u001b[0m\u001b[0;34m\u001b[0m\u001b[0;34m\u001b[0m\u001b[0m\n\u001b[1;32m     62\u001b[0m             \u001b[0;31m# back propagation to update weights for both U and V\u001b[0m\u001b[0;34m\u001b[0m\u001b[0;34m\u001b[0m\u001b[0;34m\u001b[0m\u001b[0m\n\u001b[0;32m---> 63\u001b[0;31m             \u001b[0mbackward\u001b[0m\u001b[0;34m(\u001b[0m\u001b[0mdata\u001b[0m\u001b[0;34m,\u001b[0m \u001b[0mlabel\u001b[0m\u001b[0;34m)\u001b[0m\u001b[0;34m\u001b[0m\u001b[0;34m\u001b[0m\u001b[0m\n\u001b[0m\u001b[1;32m     64\u001b[0m \u001b[0;34m\u001b[0m\u001b[0m\n\u001b[1;32m     65\u001b[0m             \u001b[0;31m# calculate forward and evaluate\u001b[0m\u001b[0;34m\u001b[0m\u001b[0;34m\u001b[0m\u001b[0;34m\u001b[0m\u001b[0m\n",
      "\u001b[0;32m<ipython-input-8-12a62e4160fb>\u001b[0m in \u001b[0;36mbackward\u001b[0;34m(word_indices, true_label)\u001b[0m\n\u001b[1;32m      7\u001b[0m     \"\"\"\n\u001b[1;32m      8\u001b[0m     \u001b[0;32mglobal\u001b[0m \u001b[0mU\u001b[0m\u001b[0;34m,\u001b[0m \u001b[0mV\u001b[0m\u001b[0;34m\u001b[0m\u001b[0;34m\u001b[0m\u001b[0m\n\u001b[0;32m----> 9\u001b[0;31m     \u001b[0mpred\u001b[0m \u001b[0;34m=\u001b[0m \u001b[0mforward\u001b[0m\u001b[0;34m(\u001b[0m\u001b[0mword_indices\u001b[0m\u001b[0;34m)\u001b[0m\u001b[0;34m\u001b[0m\u001b[0;34m\u001b[0m\u001b[0m\n\u001b[0m\u001b[1;32m     10\u001b[0m     \u001b[0mprob\u001b[0m \u001b[0;34m=\u001b[0m \u001b[0mpred\u001b[0m\u001b[0;34m[\u001b[0m\u001b[0;34m\"prob\"\u001b[0m\u001b[0;34m]\u001b[0m\u001b[0;34m\u001b[0m\u001b[0;34m\u001b[0m\u001b[0m\n\u001b[1;32m     11\u001b[0m     \u001b[0mh\u001b[0m \u001b[0;34m=\u001b[0m \u001b[0mpred\u001b[0m\u001b[0;34m[\u001b[0m\u001b[0;34m\"h\"\u001b[0m\u001b[0;34m]\u001b[0m\u001b[0;34m\u001b[0m\u001b[0;34m\u001b[0m\u001b[0m\n",
      "\u001b[0;32m<ipython-input-7-3baaba4eb748>\u001b[0m in \u001b[0;36mforward\u001b[0;34m(word_indices)\u001b[0m\n\u001b[1;32m     39\u001b[0m \u001b[0;34m\u001b[0m\u001b[0m\n\u001b[1;32m     40\u001b[0m \u001b[0;34m\u001b[0m\u001b[0m\n\u001b[0;32m---> 41\u001b[0;31m         \u001b[0mh\u001b[0m\u001b[0;34m[\u001b[0m\u001b[0mi\u001b[0m\u001b[0;34m]\u001b[0m \u001b[0;34m=\u001b[0m \u001b[0mmax\u001b[0m\u001b[0;34m(\u001b[0m\u001b[0mnp\u001b[0m\u001b[0;34m.\u001b[0m\u001b[0mtanh\u001b[0m\u001b[0;34m(\u001b[0m\u001b[0mvector_sum\u001b[0m\u001b[0;34m)\u001b[0m\u001b[0;34m)\u001b[0m\u001b[0;34m\u001b[0m\u001b[0;34m\u001b[0m\u001b[0m\n\u001b[0m\u001b[1;32m     42\u001b[0m         \u001b[0mhid\u001b[0m\u001b[0;34m[\u001b[0m\u001b[0mi\u001b[0m\u001b[0;34m]\u001b[0m \u001b[0;34m=\u001b[0m \u001b[0mnp\u001b[0m\u001b[0;34m.\u001b[0m\u001b[0margmax\u001b[0m\u001b[0;34m(\u001b[0m\u001b[0mnp\u001b[0m\u001b[0;34m.\u001b[0m\u001b[0mtanh\u001b[0m\u001b[0;34m(\u001b[0m\u001b[0mvector_sum\u001b[0m\u001b[0;34m)\u001b[0m\u001b[0;34m)\u001b[0m\u001b[0;34m\u001b[0m\u001b[0;34m\u001b[0m\u001b[0m\n\u001b[1;32m     43\u001b[0m \u001b[0;34m\u001b[0m\u001b[0m\n",
      "\u001b[0;31mKeyboardInterrupt\u001b[0m: "
     ]
    }
   ],
   "source": [
    "train()"
   ]
  },
  {
   "cell_type": "code",
   "execution_count": null,
   "metadata": {
    "collapsed": true
   },
   "outputs": [],
   "source": []
  }
 ],
 "metadata": {
  "colab": {
   "authorship_tag": "ABX9TyP88ockTBl5gWsANHKBBEWu",
   "collapsed_sections": [],
   "include_colab_link": true,
   "name": "HW_2.ipynb",
   "provenance": []
  },
  "kernelspec": {
   "display_name": "Python 3",
   "language": "python",
   "name": "python3"
  },
  "language_info": {
   "codemirror_mode": {
    "name": "ipython",
    "version": 3
   },
   "file_extension": ".py",
   "mimetype": "text/x-python",
   "name": "python",
   "nbconvert_exporter": "python",
   "pygments_lexer": "ipython3",
   "version": "3.6.9"
  }
 },
 "nbformat": 4,
 "nbformat_minor": 1
}
